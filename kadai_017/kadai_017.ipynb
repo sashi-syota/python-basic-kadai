{
  "nbformat": 4,
  "nbformat_minor": 0,
  "metadata": {
    "colab": {
      "provenance": []
    },
    "kernelspec": {
      "name": "python3",
      "display_name": "Python 3"
    },
    "language_info": {
      "name": "python"
    }
  },
  "cells": [
    {
      "cell_type": "code",
      "source": [
        "class Human:\n",
        "  def __init__(self,name,age):\n",
        "    self.name = name\n",
        "    self.age = age\n",
        "\n",
        "  def set_name(self,name):\n",
        "    self.name = name\n",
        "\n",
        "  def set_age(self,age):\n",
        "    self.age = age\n",
        "\n",
        "  def check_adult(self):\n",
        "      if  self.age >= 20:\n",
        "        print(\"大人である。\")\n",
        "      else :\n",
        "       print(\"大人ではない。\")\n",
        "\n",
        "humans_list = [Human(\"侍太郎\",25),Human(\"侍花子\",10),Human(\"サムライ\",100)]\n",
        "\n",
        "for human in humans_list:\n",
        "  human.check_adult()\n",
        "\n",
        "\n"
      ],
      "metadata": {
        "colab": {
          "base_uri": "https://localhost:8080/"
        },
        "id": "JgTQMO9DBh3U",
        "outputId": "9ce911ab-fcd7-4a2d-e91b-0e942a23ab7e"
      },
      "execution_count": 40,
      "outputs": [
        {
          "output_type": "stream",
          "name": "stdout",
          "text": [
            "大人である。\n",
            "大人ではない。\n",
            "大人である。\n"
          ]
        }
      ]
    }
  ]
}